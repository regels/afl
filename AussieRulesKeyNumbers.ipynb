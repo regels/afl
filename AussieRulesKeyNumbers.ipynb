{
 "cells": [
  {
   "cell_type": "markdown",
   "metadata": {},
   "source": [
    "Import Libraries"
   ]
  },
  {
   "cell_type": "code",
   "execution_count": 1,
   "metadata": {},
   "outputs": [],
   "source": [
    "import numpy as np \n",
    "import pandas as pd\n",
    "from pandas import ExcelWriter\n",
    "from pandas import ExcelFile\n",
    "\n",
    "import seaborn as sns\n",
    "sns.set_style(\"white\")\n",
    "import matplotlib.pyplot as plt"
   ]
  },
  {
   "cell_type": "markdown",
   "metadata": {},
   "source": [
    "Get Data"
   ]
  },
  {
   "cell_type": "code",
   "execution_count": 2,
   "metadata": {},
   "outputs": [
    {
     "data": {
      "text/html": [
       "<div>\n",
       "<style scoped>\n",
       "    .dataframe tbody tr th:only-of-type {\n",
       "        vertical-align: middle;\n",
       "    }\n",
       "\n",
       "    .dataframe tbody tr th {\n",
       "        vertical-align: top;\n",
       "    }\n",
       "\n",
       "    .dataframe thead th {\n",
       "        text-align: right;\n",
       "    }\n",
       "</style>\n",
       "<table border=\"1\" class=\"dataframe\">\n",
       "  <thead>\n",
       "    <tr style=\"text-align: right;\">\n",
       "      <th></th>\n",
       "      <th>Year</th>\n",
       "      <th>Round</th>\n",
       "      <th>Team1</th>\n",
       "      <th>Team2</th>\n",
       "      <th>Team1.Result</th>\n",
       "      <th>Team2.Result</th>\n",
       "      <th>Team1.1QTotal</th>\n",
       "      <th>Team1.2QTotal</th>\n",
       "      <th>Team1.3QTotal</th>\n",
       "      <th>Team1.4QTotal</th>\n",
       "      <th>Team2.1QTotal</th>\n",
       "      <th>Team2.2QTotal</th>\n",
       "      <th>Team2.3QTotal</th>\n",
       "      <th>Team2.4QTotal</th>\n",
       "    </tr>\n",
       "  </thead>\n",
       "  <tbody>\n",
       "    <tr>\n",
       "      <th>0</th>\n",
       "      <td>2018</td>\n",
       "      <td>1</td>\n",
       "      <td>Richmond Tigers</td>\n",
       "      <td>Carlton Blues</td>\n",
       "      <td>W</td>\n",
       "      <td>L</td>\n",
       "      <td>21</td>\n",
       "      <td>32</td>\n",
       "      <td>15</td>\n",
       "      <td>37</td>\n",
       "      <td>20</td>\n",
       "      <td>22</td>\n",
       "      <td>18</td>\n",
       "      <td>20</td>\n",
       "    </tr>\n",
       "    <tr>\n",
       "      <th>1</th>\n",
       "      <td>2018</td>\n",
       "      <td>1</td>\n",
       "      <td>Collingwood Magpies</td>\n",
       "      <td>Western Bulldogs</td>\n",
       "      <td>L</td>\n",
       "      <td>W</td>\n",
       "      <td>8</td>\n",
       "      <td>22</td>\n",
       "      <td>7</td>\n",
       "      <td>16</td>\n",
       "      <td>20</td>\n",
       "      <td>21</td>\n",
       "      <td>20</td>\n",
       "      <td>8</td>\n",
       "    </tr>\n",
       "    <tr>\n",
       "      <th>2</th>\n",
       "      <td>2018</td>\n",
       "      <td>1</td>\n",
       "      <td>Melbourne Demons</td>\n",
       "      <td>Freemantle Dockers</td>\n",
       "      <td>W</td>\n",
       "      <td>L</td>\n",
       "      <td>28</td>\n",
       "      <td>20</td>\n",
       "      <td>14</td>\n",
       "      <td>18</td>\n",
       "      <td>4</td>\n",
       "      <td>22</td>\n",
       "      <td>19</td>\n",
       "      <td>13</td>\n",
       "    </tr>\n",
       "    <tr>\n",
       "      <th>3</th>\n",
       "      <td>2018</td>\n",
       "      <td>1</td>\n",
       "      <td>Adelaide Crows</td>\n",
       "      <td>Geelong Cats</td>\n",
       "      <td>W</td>\n",
       "      <td>L</td>\n",
       "      <td>28</td>\n",
       "      <td>45</td>\n",
       "      <td>14</td>\n",
       "      <td>16</td>\n",
       "      <td>15</td>\n",
       "      <td>20</td>\n",
       "      <td>33</td>\n",
       "      <td>23</td>\n",
       "    </tr>\n",
       "    <tr>\n",
       "      <th>4</th>\n",
       "      <td>2018</td>\n",
       "      <td>1</td>\n",
       "      <td>Essendon Bombers</td>\n",
       "      <td>Hawthorn Hawks</td>\n",
       "      <td>L</td>\n",
       "      <td>W</td>\n",
       "      <td>16</td>\n",
       "      <td>50</td>\n",
       "      <td>10</td>\n",
       "      <td>15</td>\n",
       "      <td>19</td>\n",
       "      <td>8</td>\n",
       "      <td>48</td>\n",
       "      <td>17</td>\n",
       "    </tr>\n",
       "  </tbody>\n",
       "</table>\n",
       "</div>"
      ],
      "text/plain": [
       "   Year  Round                Team1               Team2 Team1.Result  \\\n",
       "0  2018      1      Richmond Tigers       Carlton Blues            W   \n",
       "1  2018      1  Collingwood Magpies    Western Bulldogs            L   \n",
       "2  2018      1     Melbourne Demons  Freemantle Dockers            W   \n",
       "3  2018      1       Adelaide Crows        Geelong Cats            W   \n",
       "4  2018      1     Essendon Bombers      Hawthorn Hawks            L   \n",
       "\n",
       "  Team2.Result  Team1.1QTotal  Team1.2QTotal  Team1.3QTotal  Team1.4QTotal  \\\n",
       "0            L             21             32             15             37   \n",
       "1            W              8             22              7             16   \n",
       "2            L             28             20             14             18   \n",
       "3            L             28             45             14             16   \n",
       "4            W             16             50             10             15   \n",
       "\n",
       "   Team2.1QTotal  Team2.2QTotal  Team2.3QTotal  Team2.4QTotal  \n",
       "0             20             22             18             20  \n",
       "1             20             21             20              8  \n",
       "2              4             22             19             13  \n",
       "3             15             20             33             23  \n",
       "4             19              8             48             17  "
      ]
     },
     "execution_count": 2,
     "metadata": {},
     "output_type": "execute_result"
    }
   ],
   "source": [
    "AFL = pd.read_csv(\"/Users/shaneregel/Documents/Betting/AussieRulesRegularSeasonGameData.csv\")\n",
    "AFL.head()"
   ]
  },
  {
   "cell_type": "markdown",
   "metadata": {},
   "source": [
    "Create derived columns\n",
    "- Spread\n",
    "- Game Total\n",
    "- Team Total"
   ]
  },
  {
   "cell_type": "code",
   "execution_count": 3,
   "metadata": {},
   "outputs": [
    {
     "data": {
      "text/html": [
       "<div>\n",
       "<style scoped>\n",
       "    .dataframe tbody tr th:only-of-type {\n",
       "        vertical-align: middle;\n",
       "    }\n",
       "\n",
       "    .dataframe tbody tr th {\n",
       "        vertical-align: top;\n",
       "    }\n",
       "\n",
       "    .dataframe thead th {\n",
       "        text-align: right;\n",
       "    }\n",
       "</style>\n",
       "<table border=\"1\" class=\"dataframe\">\n",
       "  <thead>\n",
       "    <tr style=\"text-align: right;\">\n",
       "      <th></th>\n",
       "      <th>Year</th>\n",
       "      <th>Round</th>\n",
       "      <th>Team1</th>\n",
       "      <th>Team2</th>\n",
       "      <th>Team1.Result</th>\n",
       "      <th>Team2.Result</th>\n",
       "      <th>Team1.1QTotal</th>\n",
       "      <th>Team1.2QTotal</th>\n",
       "      <th>Team1.3QTotal</th>\n",
       "      <th>Team1.4QTotal</th>\n",
       "      <th>Team2.1QTotal</th>\n",
       "      <th>Team2.2QTotal</th>\n",
       "      <th>Team2.3QTotal</th>\n",
       "      <th>Team2.4QTotal</th>\n",
       "      <th>Team1.Total</th>\n",
       "      <th>Team2.Total</th>\n",
       "      <th>Game.Total</th>\n",
       "    </tr>\n",
       "  </thead>\n",
       "  <tbody>\n",
       "    <tr>\n",
       "      <th>0</th>\n",
       "      <td>2018</td>\n",
       "      <td>1</td>\n",
       "      <td>Richmond Tigers</td>\n",
       "      <td>Carlton Blues</td>\n",
       "      <td>W</td>\n",
       "      <td>L</td>\n",
       "      <td>21</td>\n",
       "      <td>32</td>\n",
       "      <td>15</td>\n",
       "      <td>37</td>\n",
       "      <td>20</td>\n",
       "      <td>22</td>\n",
       "      <td>18</td>\n",
       "      <td>20</td>\n",
       "      <td>105</td>\n",
       "      <td>80</td>\n",
       "      <td>185</td>\n",
       "    </tr>\n",
       "    <tr>\n",
       "      <th>1</th>\n",
       "      <td>2018</td>\n",
       "      <td>1</td>\n",
       "      <td>Collingwood Magpies</td>\n",
       "      <td>Western Bulldogs</td>\n",
       "      <td>L</td>\n",
       "      <td>W</td>\n",
       "      <td>8</td>\n",
       "      <td>22</td>\n",
       "      <td>7</td>\n",
       "      <td>16</td>\n",
       "      <td>20</td>\n",
       "      <td>21</td>\n",
       "      <td>20</td>\n",
       "      <td>8</td>\n",
       "      <td>53</td>\n",
       "      <td>69</td>\n",
       "      <td>122</td>\n",
       "    </tr>\n",
       "    <tr>\n",
       "      <th>2</th>\n",
       "      <td>2018</td>\n",
       "      <td>1</td>\n",
       "      <td>Melbourne Demons</td>\n",
       "      <td>Freemantle Dockers</td>\n",
       "      <td>W</td>\n",
       "      <td>L</td>\n",
       "      <td>28</td>\n",
       "      <td>20</td>\n",
       "      <td>14</td>\n",
       "      <td>18</td>\n",
       "      <td>4</td>\n",
       "      <td>22</td>\n",
       "      <td>19</td>\n",
       "      <td>13</td>\n",
       "      <td>80</td>\n",
       "      <td>58</td>\n",
       "      <td>138</td>\n",
       "    </tr>\n",
       "    <tr>\n",
       "      <th>3</th>\n",
       "      <td>2018</td>\n",
       "      <td>1</td>\n",
       "      <td>Adelaide Crows</td>\n",
       "      <td>Geelong Cats</td>\n",
       "      <td>W</td>\n",
       "      <td>L</td>\n",
       "      <td>28</td>\n",
       "      <td>45</td>\n",
       "      <td>14</td>\n",
       "      <td>16</td>\n",
       "      <td>15</td>\n",
       "      <td>20</td>\n",
       "      <td>33</td>\n",
       "      <td>23</td>\n",
       "      <td>103</td>\n",
       "      <td>91</td>\n",
       "      <td>194</td>\n",
       "    </tr>\n",
       "    <tr>\n",
       "      <th>4</th>\n",
       "      <td>2018</td>\n",
       "      <td>1</td>\n",
       "      <td>Essendon Bombers</td>\n",
       "      <td>Hawthorn Hawks</td>\n",
       "      <td>L</td>\n",
       "      <td>W</td>\n",
       "      <td>16</td>\n",
       "      <td>50</td>\n",
       "      <td>10</td>\n",
       "      <td>15</td>\n",
       "      <td>19</td>\n",
       "      <td>8</td>\n",
       "      <td>48</td>\n",
       "      <td>17</td>\n",
       "      <td>91</td>\n",
       "      <td>92</td>\n",
       "      <td>183</td>\n",
       "    </tr>\n",
       "  </tbody>\n",
       "</table>\n",
       "</div>"
      ],
      "text/plain": [
       "   Year  Round                Team1               Team2 Team1.Result  \\\n",
       "0  2018      1      Richmond Tigers       Carlton Blues            W   \n",
       "1  2018      1  Collingwood Magpies    Western Bulldogs            L   \n",
       "2  2018      1     Melbourne Demons  Freemantle Dockers            W   \n",
       "3  2018      1       Adelaide Crows        Geelong Cats            W   \n",
       "4  2018      1     Essendon Bombers      Hawthorn Hawks            L   \n",
       "\n",
       "  Team2.Result  Team1.1QTotal  Team1.2QTotal  Team1.3QTotal  Team1.4QTotal  \\\n",
       "0            L             21             32             15             37   \n",
       "1            W              8             22              7             16   \n",
       "2            L             28             20             14             18   \n",
       "3            L             28             45             14             16   \n",
       "4            W             16             50             10             15   \n",
       "\n",
       "   Team2.1QTotal  Team2.2QTotal  Team2.3QTotal  Team2.4QTotal  Team1.Total  \\\n",
       "0             20             22             18             20          105   \n",
       "1             20             21             20              8           53   \n",
       "2              4             22             19             13           80   \n",
       "3             15             20             33             23          103   \n",
       "4             19              8             48             17           91   \n",
       "\n",
       "   Team2.Total  Game.Total  \n",
       "0           80         185  \n",
       "1           69         122  \n",
       "2           58         138  \n",
       "3           91         194  \n",
       "4           92         183  "
      ]
     },
     "execution_count": 3,
     "metadata": {},
     "output_type": "execute_result"
    }
   ],
   "source": [
    "AFL['Team1.Total'] = AFL['Team1.1QTotal'] + AFL['Team1.2QTotal'] + AFL['Team1.3QTotal'] + AFL['Team1.4QTotal']\n",
    "AFL['Team2.Total'] = AFL['Team2.1QTotal'] + AFL['Team2.2QTotal'] + AFL['Team2.3QTotal'] + AFL['Team2.4QTotal']\n",
    "AFL['Game.Total'] = AFL['Team1.Total'] + AFL['Team2.Total']\n",
    "AFL.head()"
   ]
  },
  {
   "cell_type": "markdown",
   "metadata": {},
   "source": [
    "Re-order columns"
   ]
  },
  {
   "cell_type": "code",
   "execution_count": 4,
   "metadata": {},
   "outputs": [
    {
     "data": {
      "text/html": [
       "<div>\n",
       "<style scoped>\n",
       "    .dataframe tbody tr th:only-of-type {\n",
       "        vertical-align: middle;\n",
       "    }\n",
       "\n",
       "    .dataframe tbody tr th {\n",
       "        vertical-align: top;\n",
       "    }\n",
       "\n",
       "    .dataframe thead th {\n",
       "        text-align: right;\n",
       "    }\n",
       "</style>\n",
       "<table border=\"1\" class=\"dataframe\">\n",
       "  <thead>\n",
       "    <tr style=\"text-align: right;\">\n",
       "      <th></th>\n",
       "      <th>Year</th>\n",
       "      <th>Round</th>\n",
       "      <th>Game.Total</th>\n",
       "      <th>Team1</th>\n",
       "      <th>Team1.Result</th>\n",
       "      <th>Team1.Total</th>\n",
       "      <th>Team1.1QTotal</th>\n",
       "      <th>Team1.2QTotal</th>\n",
       "      <th>Team1.3QTotal</th>\n",
       "      <th>Team1.4QTotal</th>\n",
       "      <th>Team2</th>\n",
       "      <th>Team2.Result</th>\n",
       "      <th>Team2.Total</th>\n",
       "      <th>Team2.1QTotal</th>\n",
       "      <th>Team2.2QTotal</th>\n",
       "      <th>Team2.3QTotal</th>\n",
       "      <th>Team2.4QTotal</th>\n",
       "    </tr>\n",
       "  </thead>\n",
       "  <tbody>\n",
       "    <tr>\n",
       "      <th>0</th>\n",
       "      <td>2018</td>\n",
       "      <td>1</td>\n",
       "      <td>185</td>\n",
       "      <td>Richmond Tigers</td>\n",
       "      <td>W</td>\n",
       "      <td>105</td>\n",
       "      <td>21</td>\n",
       "      <td>32</td>\n",
       "      <td>15</td>\n",
       "      <td>37</td>\n",
       "      <td>Carlton Blues</td>\n",
       "      <td>L</td>\n",
       "      <td>80</td>\n",
       "      <td>20</td>\n",
       "      <td>22</td>\n",
       "      <td>18</td>\n",
       "      <td>20</td>\n",
       "    </tr>\n",
       "    <tr>\n",
       "      <th>1</th>\n",
       "      <td>2018</td>\n",
       "      <td>1</td>\n",
       "      <td>122</td>\n",
       "      <td>Collingwood Magpies</td>\n",
       "      <td>L</td>\n",
       "      <td>53</td>\n",
       "      <td>8</td>\n",
       "      <td>22</td>\n",
       "      <td>7</td>\n",
       "      <td>16</td>\n",
       "      <td>Western Bulldogs</td>\n",
       "      <td>W</td>\n",
       "      <td>69</td>\n",
       "      <td>20</td>\n",
       "      <td>21</td>\n",
       "      <td>20</td>\n",
       "      <td>8</td>\n",
       "    </tr>\n",
       "    <tr>\n",
       "      <th>2</th>\n",
       "      <td>2018</td>\n",
       "      <td>1</td>\n",
       "      <td>138</td>\n",
       "      <td>Melbourne Demons</td>\n",
       "      <td>W</td>\n",
       "      <td>80</td>\n",
       "      <td>28</td>\n",
       "      <td>20</td>\n",
       "      <td>14</td>\n",
       "      <td>18</td>\n",
       "      <td>Freemantle Dockers</td>\n",
       "      <td>L</td>\n",
       "      <td>58</td>\n",
       "      <td>4</td>\n",
       "      <td>22</td>\n",
       "      <td>19</td>\n",
       "      <td>13</td>\n",
       "    </tr>\n",
       "    <tr>\n",
       "      <th>3</th>\n",
       "      <td>2018</td>\n",
       "      <td>1</td>\n",
       "      <td>194</td>\n",
       "      <td>Adelaide Crows</td>\n",
       "      <td>W</td>\n",
       "      <td>103</td>\n",
       "      <td>28</td>\n",
       "      <td>45</td>\n",
       "      <td>14</td>\n",
       "      <td>16</td>\n",
       "      <td>Geelong Cats</td>\n",
       "      <td>L</td>\n",
       "      <td>91</td>\n",
       "      <td>15</td>\n",
       "      <td>20</td>\n",
       "      <td>33</td>\n",
       "      <td>23</td>\n",
       "    </tr>\n",
       "    <tr>\n",
       "      <th>4</th>\n",
       "      <td>2018</td>\n",
       "      <td>1</td>\n",
       "      <td>183</td>\n",
       "      <td>Essendon Bombers</td>\n",
       "      <td>L</td>\n",
       "      <td>91</td>\n",
       "      <td>16</td>\n",
       "      <td>50</td>\n",
       "      <td>10</td>\n",
       "      <td>15</td>\n",
       "      <td>Hawthorn Hawks</td>\n",
       "      <td>W</td>\n",
       "      <td>92</td>\n",
       "      <td>19</td>\n",
       "      <td>8</td>\n",
       "      <td>48</td>\n",
       "      <td>17</td>\n",
       "    </tr>\n",
       "  </tbody>\n",
       "</table>\n",
       "</div>"
      ],
      "text/plain": [
       "   Year  Round  Game.Total                Team1 Team1.Result  Team1.Total  \\\n",
       "0  2018      1         185      Richmond Tigers            W          105   \n",
       "1  2018      1         122  Collingwood Magpies            L           53   \n",
       "2  2018      1         138     Melbourne Demons            W           80   \n",
       "3  2018      1         194       Adelaide Crows            W          103   \n",
       "4  2018      1         183     Essendon Bombers            L           91   \n",
       "\n",
       "   Team1.1QTotal  Team1.2QTotal  Team1.3QTotal  Team1.4QTotal  \\\n",
       "0             21             32             15             37   \n",
       "1              8             22              7             16   \n",
       "2             28             20             14             18   \n",
       "3             28             45             14             16   \n",
       "4             16             50             10             15   \n",
       "\n",
       "                Team2 Team2.Result  Team2.Total  Team2.1QTotal  Team2.2QTotal  \\\n",
       "0       Carlton Blues            L           80             20             22   \n",
       "1    Western Bulldogs            W           69             20             21   \n",
       "2  Freemantle Dockers            L           58              4             22   \n",
       "3        Geelong Cats            L           91             15             20   \n",
       "4      Hawthorn Hawks            W           92             19              8   \n",
       "\n",
       "   Team2.3QTotal  Team2.4QTotal  \n",
       "0             18             20  \n",
       "1             20              8  \n",
       "2             19             13  \n",
       "3             33             23  \n",
       "4             48             17  "
      ]
     },
     "execution_count": 4,
     "metadata": {},
     "output_type": "execute_result"
    }
   ],
   "source": [
    "AFL = AFL.reindex(columns=['Year', 'Round', 'Game.Total', 'Team1', 'Team1.Result', 'Team1.Total', 'Team1.1QTotal', 'Team1.2QTotal', 'Team1.3QTotal', 'Team1.4QTotal', 'Team2', 'Team2.Result', 'Team2.Total', 'Team2.1QTotal', 'Team2.2QTotal', 'Team2.3QTotal', 'Team2.4QTotal'])\n",
    "AFL.head()\n"
   ]
  },
  {
   "cell_type": "markdown",
   "metadata": {},
   "source": [
    "Game Total Distribution"
   ]
  },
  {
   "cell_type": "code",
   "execution_count": 5,
   "metadata": {},
   "outputs": [
    {
     "name": "stderr",
     "output_type": "stream",
     "text": [
      "/Users/shaneregel/opt/anaconda3/lib/python3.8/site-packages/seaborn/distributions.py:2557: FutureWarning: `distplot` is a deprecated function and will be removed in a future version. Please adapt your code to use either `displot` (a figure-level function with similar flexibility) or `histplot` (an axes-level function for histograms).\n",
      "  warnings.warn(msg, FutureWarning)\n"
     ]
    },
    {
     "data": {
      "text/plain": [
       "<AxesSubplot:xlabel='Game.Total', ylabel='Density'>"
      ]
     },
     "execution_count": 5,
     "metadata": {},
     "output_type": "execute_result"
    },
    {
     "data": {
      "image/png": "[encoded data removed]",
      "text/plain": [
       "<Figure size 800x560 with 1 Axes>"
      ]
     },
     "metadata": {},
     "output_type": "display_data"
    }
   ],
   "source": [
    "kwargs = dict(hist_kws={'alpha':.6}, kde_kws={'linewidth':2})\n",
    "\n",
    "plt.figure(figsize=(10,7), dpi= 80)\n",
    "sns.distplot(AFL['Game.Total'], color=\"dodgerblue\", **kwargs)"
   ]
  },
  {
   "cell_type": "code",
   "execution_count": 6,
   "metadata": {},
   "outputs": [
    {
     "name": "stdout",
     "output_type": "stream",
     "text": [
      "Frequency of Game Total's\n"
     ]
    },
    {
     "data": {
      "text/plain": [
       "156    18\n",
       "158    15\n",
       "152    13\n",
       "141    12\n",
       "170    12\n",
       "       ..\n",
       "90      1\n",
       "89      1\n",
       "86      1\n",
       "72      1\n",
       "242     1\n",
       "Name: Game.Total, Length: 143, dtype: int64"
      ]
     },
     "execution_count": 6,
     "metadata": {},
     "output_type": "execute_result"
    }
   ],
   "source": [
    "frequency = AFL['Game.Total'].value_counts()\n",
    "print(\"Frequency of Game Total's\")\n",
    "frequency"
   ]
  },
  {
   "cell_type": "markdown",
   "metadata": {},
   "source": [
    "Team Total Distribution"
   ]
  },
  {
   "cell_type": "code",
   "execution_count": 7,
   "metadata": {},
   "outputs": [
    {
     "data": {
      "text/plain": [
       "0      105\n",
       "1       53\n",
       "2       80\n",
       "3      103\n",
       "4       91\n",
       "      ... \n",
       "740     81\n",
       "741     89\n",
       "742     49\n",
       "743     64\n",
       "744     54\n",
       "Length: 1490, dtype: int64"
      ]
     },
     "execution_count": 7,
     "metadata": {},
     "output_type": "execute_result"
    }
   ],
   "source": [
    "team1 = AFL['Team1.Total']\n",
    "team2 = AFL['Team2.Total']\n",
    "teamTotals = pd.concat([team1,team2])\n",
    "teamTotals"
   ]
  },
  {
   "cell_type": "code",
   "execution_count": 8,
   "metadata": {},
   "outputs": [
    {
     "name": "stderr",
     "output_type": "stream",
     "text": [
      "/Users/shaneregel/opt/anaconda3/lib/python3.8/site-packages/seaborn/distributions.py:2557: FutureWarning: `distplot` is a deprecated function and will be removed in a future version. Please adapt your code to use either `displot` (a figure-level function with similar flexibility) or `histplot` (an axes-level function for histograms).\n",
      "  warnings.warn(msg, FutureWarning)\n"
     ]
    },
    {
     "data": {
      "text/plain": [
       "<AxesSubplot:ylabel='Density'>"
      ]
     },
     "execution_count": 8,
     "metadata": {},
     "output_type": "execute_result"
    },
    {
     "data": {
      "image/png": "[encoded data removed]",
      "text/plain": [
       "<Figure size 800x560 with 1 Axes>"
      ]
     },
     "metadata": {},
     "output_type": "display_data"
    }
   ],
   "source": [
    "plt.figure(figsize=(10,7), dpi= 80)\n",
    "sns.distplot(teamTotals, color=\"dodgerblue\", **kwargs)"
   ]
  },
  {
   "cell_type": "code",
   "execution_count": 9,
   "metadata": {},
   "outputs": [
    {
     "name": "stdout",
     "output_type": "stream",
     "text": [
      "Frequency of Team Total's\n"
     ]
    },
    {
     "data": {
      "text/plain": [
       "73     39\n",
       "72     31\n",
       "80     29\n",
       "71     29\n",
       "79     28\n",
       "       ..\n",
       "127     1\n",
       "17      1\n",
       "21      1\n",
       "19      1\n",
       "167     1\n",
       "Length: 130, dtype: int64"
      ]
     },
     "execution_count": 9,
     "metadata": {},
     "output_type": "execute_result"
    }
   ],
   "source": [
    "frequency = teamTotals.value_counts()\n",
    "print(\"Frequency of Team Total's\")\n",
    "frequency"
   ]
  },
  {
   "cell_type": "code",
   "execution_count": null,
   "metadata": {},
   "outputs": [],
   "source": []
  }
 ],
 "metadata": {
  "kernelspec": {
   "display_name": "Python 3",
   "language": "python",
   "name": "python3"
  },
  "language_info": {
   "codemirror_mode": {
    "name": "ipython",
    "version": 3
   },
   "file_extension": ".py",
   "mimetype": "text/x-python",
   "name": "python",
   "nbconvert_exporter": "python",
   "pygments_lexer": "ipython3",
   "version": "3.8.8"
  }
 },
 "nbformat": 4,
 "nbformat_minor": 4
}
